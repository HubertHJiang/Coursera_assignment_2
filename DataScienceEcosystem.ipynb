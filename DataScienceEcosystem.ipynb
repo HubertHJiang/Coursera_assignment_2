{
 "cells": [
  {
   "cell_type": "markdown",
   "id": "f9477ac2-efd7-4908-887e-bbde06419edd",
   "metadata": {
    "tags": []
   },
   "source": [
    "# Data Science Tools and Ecosystem\n",
    "In this notebook, Data Science Tools and Ecosystem are summarized."
   ]
  },
  {
   "cell_type": "markdown",
   "id": "346416ec-1a1f-41bd-9d3a-1da90d799bd5",
   "metadata": {},
   "source": [
    "**Objects:**\n",
    "unordered list:1.List popular languages for Data Science 2.List popular labraries for Data Science 3.List popular data science tools for Data Science"
   ]
  },
  {
   "cell_type": "markdown",
   "id": "5aff0a35-41e7-493e-a2e3-67764a4cd642",
   "metadata": {},
   "source": [
    "Some of the popular languages that Data Scientists use are:"
   ]
  },
  {
   "cell_type": "markdown",
   "id": "83cc7f4c-f482-4675-94de-12d1611f19c7",
   "metadata": {},
   "source": [
    "ordered_lists:1.python;2.matlab;3.R"
   ]
  },
  {
   "cell_type": "markdown",
   "id": "faee9721-6665-4ba6-a6c2-4bb51ed23b93",
   "metadata": {},
   "source": [
    "order_lists2:1.numpy;2.pandas;3.matpoltlib"
   ]
  },
  {
   "cell_type": "markdown",
   "id": "920e48d5-d413-4069-9f03-8cf09c5fb319",
   "metadata": {
    "tags": []
   },
   "source": [
    "Data_Science_Tools"
   ]
  },
  {
   "cell_type": "markdown",
   "id": "5650d064-597c-4289-b847-0a1982f6fb1b",
   "metadata": {},
   "source": [
    "* KNIME\n",
    "* Apache_Spark\n",
    "* Metabase"
   ]
  },
  {
   "cell_type": "markdown",
   "id": "675ee26a-0802-4710-ba35-a54f152f27d0",
   "metadata": {},
   "source": [
    "### Below are a few examples of evaluating arithmetic expressions in Python"
   ]
  },
  {
   "cell_type": "code",
   "execution_count": 18,
   "id": "310f30fe-e050-4394-a3f7-1ef527c6d8f2",
   "metadata": {
    "tags": []
   },
   "outputs": [
    {
     "data": {
      "text/plain": [
       "17"
      ]
     },
     "execution_count": 18,
     "metadata": {},
     "output_type": "execute_result"
    }
   ],
   "source": [
    "#This a simple arithmetic expression to mutiply then add integers\n",
    "(3*4)+5"
   ]
  },
  {
   "cell_type": "code",
   "execution_count": 19,
   "id": "0e7d7e84-bc35-4018-beea-097df3233b06",
   "metadata": {
    "tags": []
   },
   "outputs": [
    {
     "name": "stdout",
     "output_type": "stream",
     "text": [
      "3.3333333333333335\n"
     ]
    }
   ],
   "source": [
    "# This will convert 200 minutes to hours by dividing by 60  \n",
    "minutes_to_hours = 200 / 60  \n",
    "  \n",
    "# 打印结果以验证  \n",
    "print(minutes_to_hours)"
   ]
  },
  {
   "cell_type": "markdown",
   "id": "8784ddac-8cb4-49bc-ba6f-dbb0171375a1",
   "metadata": {},
   "source": [
    "Author:JH\n",
    "H2 style heading"
   ]
  },
  {
   "cell_type": "code",
   "execution_count": null,
   "id": "51047b33-b6fc-45df-8d7f-df3bd95db73b",
   "metadata": {},
   "outputs": [],
   "source": []
  }
 ],
 "metadata": {
  "kernelspec": {
   "display_name": "Python",
   "language": "python",
   "name": "conda-env-python-py"
  },
  "language_info": {
   "codemirror_mode": {
    "name": "ipython",
    "version": 3
   },
   "file_extension": ".py",
   "mimetype": "text/x-python",
   "name": "python",
   "nbconvert_exporter": "python",
   "pygments_lexer": "ipython3",
   "version": "3.7.12"
  }
 },
 "nbformat": 4,
 "nbformat_minor": 5
}
